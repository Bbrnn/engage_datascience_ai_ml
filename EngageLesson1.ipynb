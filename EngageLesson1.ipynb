{
  "nbformat": 4,
  "nbformat_minor": 0,
  "metadata": {
    "colab": {
      "provenance": [],
      "authorship_tag": "ABX9TyMJMNdNoN6iSF6L/qT4l65o",
      "include_colab_link": true
    },
    "kernelspec": {
      "name": "python3",
      "display_name": "Python 3"
    },
    "language_info": {
      "name": "python"
    }
  },
  "cells": [
    {
      "cell_type": "markdown",
      "metadata": {
        "id": "view-in-github",
        "colab_type": "text"
      },
      "source": [
        "<a href=\"https://colab.research.google.com/github/Bbrnn/engage_datascience_ai_ml/blob/main/EngageLesson1.ipynb\" target=\"_parent\"><img src=\"https://colab.research.google.com/assets/colab-badge.svg\" alt=\"Open In Colab\"/></a>"
      ]
    },
    {
      "cell_type": "code",
      "source": [
        "print(\"Hello world\")"
      ],
      "metadata": {
        "colab": {
          "base_uri": "https://localhost:8080/"
        },
        "id": "Q1XUr6kknLuM",
        "outputId": "a2f25e19-dfdd-447a-d8f2-490aed777460"
      },
      "execution_count": 27,
      "outputs": [
        {
          "output_type": "stream",
          "name": "stdout",
          "text": [
            "Hello world\n"
          ]
        }
      ]
    },
    {
      "cell_type": "code",
      "source": [
        "one = 20\n",
        "two = 30\n",
        "three = one + two\n",
        "print(three)"
      ],
      "metadata": {
        "colab": {
          "base_uri": "https://localhost:8080/"
        },
        "outputId": "97c20670-6a82-406c-d0f0-0fa699d0382d",
        "id": "VylqNFwempBf"
      },
      "execution_count": null,
      "outputs": [
        {
          "output_type": "stream",
          "name": "stdout",
          "text": [
            "50\n"
          ]
        }
      ]
    },
    {
      "cell_type": "code",
      "source": [
        "one = 20\n",
        "two = 30\n",
        "three = one + two\n",
        "print(three)"
      ],
      "metadata": {
        "colab": {
          "base_uri": "https://localhost:8080/"
        },
        "outputId": "97c20670-6a82-406c-d0f0-0fa699d0382d",
        "id": "at65LnPwmluN"
      },
      "execution_count": null,
      "outputs": [
        {
          "output_type": "stream",
          "name": "stdout",
          "text": [
            "50\n"
          ]
        }
      ]
    },
    {
      "cell_type": "code",
      "execution_count": 1,
      "metadata": {
        "colab": {
          "base_uri": "https://localhost:8080/"
        },
        "id": "MlIklcnWf3UY",
        "outputId": "af258627-4560-4c4d-9b30-062ad41e5238"
      },
      "outputs": [
        {
          "output_type": "execute_result",
          "data": {
            "text/plain": [
              "6"
            ]
          },
          "metadata": {},
          "execution_count": 1
        }
      ],
      "source": [
        "4+2"
      ]
    },
    {
      "cell_type": "code",
      "source": [
        "8-2"
      ],
      "metadata": {
        "colab": {
          "base_uri": "https://localhost:8080/"
        },
        "id": "DEVHMk-gf8sc",
        "outputId": "7e8b07e1-c198-4e99-fa62-26a05531b1e1"
      },
      "execution_count": 2,
      "outputs": [
        {
          "output_type": "execute_result",
          "data": {
            "text/plain": [
              "6"
            ]
          },
          "metadata": {},
          "execution_count": 2
        }
      ]
    },
    {
      "cell_type": "code",
      "source": [
        "50*60678"
      ],
      "metadata": {
        "colab": {
          "base_uri": "https://localhost:8080/"
        },
        "id": "a-HkM0AigFwa",
        "outputId": "d4fd97e1-414d-451f-d61c-8c3256c25a3f"
      },
      "execution_count": 3,
      "outputs": [
        {
          "output_type": "execute_result",
          "data": {
            "text/plain": [
              "3033900"
            ]
          },
          "metadata": {},
          "execution_count": 3
        }
      ]
    },
    {
      "cell_type": "code",
      "source": [
        "445/9"
      ],
      "metadata": {
        "colab": {
          "base_uri": "https://localhost:8080/"
        },
        "id": "h2AB8v4fgJyK",
        "outputId": "2da17ba1-b00a-477f-c495-2af0a60eebc8"
      },
      "execution_count": 5,
      "outputs": [
        {
          "output_type": "execute_result",
          "data": {
            "text/plain": [
              "49.44444444444444"
            ]
          },
          "metadata": {},
          "execution_count": 5
        }
      ]
    },
    {
      "cell_type": "code",
      "source": [
        "578**2\n"
      ],
      "metadata": {
        "colab": {
          "base_uri": "https://localhost:8080/"
        },
        "id": "J8eolHw7gLYB",
        "outputId": "73c44746-5763-478d-8782-201e04bd9728"
      },
      "execution_count": 7,
      "outputs": [
        {
          "output_type": "execute_result",
          "data": {
            "text/plain": [
              "334084"
            ]
          },
          "metadata": {},
          "execution_count": 7
        }
      ]
    },
    {
      "cell_type": "code",
      "source": [
        "54//6\n"
      ],
      "metadata": {
        "colab": {
          "base_uri": "https://localhost:8080/"
        },
        "id": "TA2vCOpzgQpR",
        "outputId": "46f8c0ef-266d-4a75-d73b-4bf66c551c4c"
      },
      "execution_count": 8,
      "outputs": [
        {
          "output_type": "execute_result",
          "data": {
            "text/plain": [
              "9"
            ]
          },
          "metadata": {},
          "execution_count": 8
        }
      ]
    },
    {
      "cell_type": "code",
      "source": [
        "print('Bridget')"
      ],
      "metadata": {
        "colab": {
          "base_uri": "https://localhost:8080/"
        },
        "id": "SvBfrURGgX37",
        "outputId": "c79cf5a0-11b1-4532-f715-8a380e898d81"
      },
      "execution_count": 10,
      "outputs": [
        {
          "output_type": "stream",
          "name": "stdout",
          "text": [
            "Bridget\n"
          ]
        }
      ]
    },
    {
      "cell_type": "code",
      "source": [
        "print('Dear mum, I am learning python')"
      ],
      "metadata": {
        "colab": {
          "base_uri": "https://localhost:8080/"
        },
        "id": "doDZWkJGhKXj",
        "outputId": "b1176251-6c4d-4e7c-848b-fdd7d1b231f6"
      },
      "execution_count": 11,
      "outputs": [
        {
          "output_type": "stream",
          "name": "stdout",
          "text": [
            "Dear mum, I am learning python\n"
          ]
        }
      ]
    },
    {
      "cell_type": "code",
      "source": [
        "print('Hello \\n people')"
      ],
      "metadata": {
        "colab": {
          "base_uri": "https://localhost:8080/"
        },
        "id": "0teaTvGUhYxp",
        "outputId": "71ed826a-b3df-4b44-99ba-bd694f4574f2"
      },
      "execution_count": 18,
      "outputs": [
        {
          "output_type": "stream",
          "name": "stdout",
          "text": [
            "Hello \n",
            " people\n"
          ]
        }
      ]
    },
    {
      "cell_type": "code",
      "source": [
        "print('Hello\\npeople\\nHello\\npeople')"
      ],
      "metadata": {
        "colab": {
          "base_uri": "https://localhost:8080/"
        },
        "id": "dcCXP1Wph7ja",
        "outputId": "143f8fb8-c5d1-42ca-8867-2535081eb16c"
      },
      "execution_count": 16,
      "outputs": [
        {
          "output_type": "stream",
          "name": "stdout",
          "text": [
            "Hello\n",
            "people\n",
            "Hello\n",
            "people\n"
          ]
        }
      ]
    },
    {
      "cell_type": "code",
      "source": [
        "age = 18\n",
        "name = 'Mary'\n",
        "print(name)\n",
        "print(age)"
      ],
      "metadata": {
        "colab": {
          "base_uri": "https://localhost:8080/"
        },
        "id": "L-9uJUzPi1Ts",
        "outputId": "80b1147e-12cf-45d3-e7a2-7dc58e116e0e"
      },
      "execution_count": 17,
      "outputs": [
        {
          "output_type": "stream",
          "name": "stdout",
          "text": [
            "Mary\n",
            "18\n"
          ]
        }
      ]
    },
    {
      "cell_type": "code",
      "source": [
        "one = 20\n",
        "two = 30\n",
        "three = one + two #addition\n",
        "four = two - one #subtraction\n",
        "five = one * two #multiplication\n",
        "six = two / one #division\n",
        "print(\"Addition\", three)\n",
        "print(\"Subtraction\", four)\n",
        "print(\"Multiplication\", five)\n",
        "print(\"Division\", six)"
      ],
      "metadata": {
        "colab": {
          "base_uri": "https://localhost:8080/"
        },
        "id": "Jt0P4Er5mHRd",
        "outputId": "3cd07b5d-67e9-4451-92de-c6b75335fd3f"
      },
      "execution_count": 35,
      "outputs": [
        {
          "output_type": "stream",
          "name": "stdout",
          "text": [
            "Addition 50\n",
            "Subtraction 10\n",
            "Multiplication 600\n",
            "Division 1.5\n"
          ]
        }
      ]
    },
    {
      "cell_type": "code",
      "source": [
        "#Variable\n",
        "#Can start with underscore or a letter\n",
        "#Can not begin with numbers\n",
        "_age1 = 18\n",
        "age2 = 20\n",
        "\n",
        "sum = _age1 + age2\n",
        "print(\"The sum is :\" , sum)\n",
        "\n",
        "average = sum / 2\n",
        "print(\"The average is :\", average)\n"
      ],
      "metadata": {
        "colab": {
          "base_uri": "https://localhost:8080/"
        },
        "id": "WlazI-qVmJOb",
        "outputId": "aeb9f799-a236-42dd-ef90-7a3d5ab845a9"
      },
      "execution_count": 37,
      "outputs": [
        {
          "output_type": "stream",
          "name": "stdout",
          "text": [
            "The sum is : 38\n",
            "The average is : 19.0\n"
          ]
        }
      ]
    },
    {
      "cell_type": "code",
      "source": [],
      "metadata": {
        "id": "ouUo1ypmn1uq"
      },
      "execution_count": null,
      "outputs": []
    },
    {
      "cell_type": "markdown",
      "source": [
        "OPERATORS\n",
        "\n",
        "\n",
        "\n",
        "Arithmetic operators\\\n",
        "Comparison opeartors\\\n",
        "Logical operators\n",
        "\n"
      ],
      "metadata": {
        "id": "bX0YB1IqqDnm"
      }
    },
    {
      "cell_type": "code",
      "source": [
        "a =60\n",
        "b= 90\n",
        "c= b < a\n",
        "b =b > a\n",
        "print(c)\n",
        "print(b)"
      ],
      "metadata": {
        "colab": {
          "base_uri": "https://localhost:8080/"
        },
        "id": "sT_K2ErNqH9z",
        "outputId": "09490283-8ccd-4db8-e877-a3977c76a893"
      },
      "execution_count": 38,
      "outputs": [
        {
          "output_type": "stream",
          "name": "stdout",
          "text": [
            "False\n",
            "True\n"
          ]
        }
      ]
    },
    {
      "cell_type": "code",
      "source": [
        "#Data types\n",
        "a = 10 #Integer\n",
        "b = 9.6 #double/float\n",
        "c = 'a' #character\n",
        "d = \"Bridget\"\n",
        "e = True #Boolean\n",
        "print(type(a))\n",
        "print(type(b))\n",
        "print(type(c))\n",
        "print(type(d))\n",
        "print(type(e))"
      ],
      "metadata": {
        "colab": {
          "base_uri": "https://localhost:8080/"
        },
        "id": "kA43TukIqxCI",
        "outputId": "dab216ea-b27e-45d4-bf50-960837104a19"
      },
      "execution_count": 39,
      "outputs": [
        {
          "output_type": "stream",
          "name": "stdout",
          "text": [
            "<class 'int'>\n",
            "<class 'float'>\n",
            "<class 'str'>\n",
            "<class 'str'>\n",
            "<class 'bool'>\n"
          ]
        }
      ]
    },
    {
      "cell_type": "code",
      "source": [
        "#Modulus (%)\n",
        "\n",
        "c = 12%5\n",
        "print(c)\n",
        "\n",
        "d = 12%2\n",
        "print(d)"
      ],
      "metadata": {
        "colab": {
          "base_uri": "https://localhost:8080/"
        },
        "id": "Glf0OX7tr83B",
        "outputId": "508990f4-58b6-4577-8acd-4f4ec4258adb"
      },
      "execution_count": 46,
      "outputs": [
        {
          "output_type": "stream",
          "name": "stdout",
          "text": [
            "2\n",
            "0\n"
          ]
        }
      ]
    },
    {
      "cell_type": "code",
      "source": [
        "#Exponenetial (**)\n",
        "\n",
        "c = 2**3\n",
        "print(c)"
      ],
      "metadata": {
        "colab": {
          "base_uri": "https://localhost:8080/"
        },
        "id": "0iKFYv8Ose3o",
        "outputId": "c8b8d7d9-499b-4e24-9750-4652c76f6801"
      },
      "execution_count": 49,
      "outputs": [
        {
          "output_type": "stream",
          "name": "stdout",
          "text": [
            "8\n"
          ]
        }
      ]
    },
    {
      "cell_type": "code",
      "source": [
        "f = 5!= 8\n",
        "print(f)\n",
        "g = 15>8\n",
        "print(g)\n"
      ],
      "metadata": {
        "colab": {
          "base_uri": "https://localhost:8080/"
        },
        "id": "_7XyMY4CstT7",
        "outputId": "6be186b6-2422-48c0-927f-f988d31afbca"
      },
      "execution_count": 53,
      "outputs": [
        {
          "output_type": "stream",
          "name": "stdout",
          "text": [
            "True\n",
            "True\n",
            "False\n"
          ]
        }
      ]
    },
    {
      "cell_type": "code",
      "source": [
        "#logical operators\n",
        "#AND\n",
        "k=(7>5) and (4<5)\n",
        "print(k)\n",
        "\n",
        "#OR\n",
        "i = (7>5) or (4<5)\n",
        "print(i)\n",
        "\n",
        "#NOT\n",
        "m = not(9 == 9)\n",
        "print(m)"
      ],
      "metadata": {
        "colab": {
          "base_uri": "https://localhost:8080/"
        },
        "id": "9j1Xpg05s6ZU",
        "outputId": "d06ad6c5-c9b6-40b6-b8ef-79a63289397f"
      },
      "execution_count": 55,
      "outputs": [
        {
          "output_type": "stream",
          "name": "stdout",
          "text": [
            "True\n",
            "True\n",
            "False\n"
          ]
        }
      ]
    },
    {
      "cell_type": "code",
      "source": [
        "#A program that calculates the area and perimeter of a rctangle\n",
        "length = 50\n",
        "width = 30\n",
        "perimeter = 2*(length + width)\n",
        "area = length * width\n",
        "\n",
        "print(perimeter)\n",
        "print(area)"
      ],
      "metadata": {
        "colab": {
          "base_uri": "https://localhost:8080/"
        },
        "id": "OZ7Ki923thCd",
        "outputId": "332ee0e0-c6fb-422e-9f82-95abfa30d03f"
      },
      "execution_count": 56,
      "outputs": [
        {
          "output_type": "stream",
          "name": "stdout",
          "text": [
            "1500\n",
            "160\n"
          ]
        }
      ]
    },
    {
      "cell_type": "code",
      "source": [
        "#A PROGRAM THAT CHECKS IF A NUMBER IS EVEN OR ODD\n",
        "number = 27\n",
        "if (number % 2 == 0):\n",
        "  print(\"The number \" + str(number) + \" is even\")\n",
        "else:\n",
        "  print(\"The number \" + str(number)   + \" is Odd\")"
      ],
      "metadata": {
        "colab": {
          "base_uri": "https://localhost:8080/"
        },
        "id": "2YrROhpjveu8",
        "outputId": "b689827f-1d7f-420a-b17a-79a2a040420d"
      },
      "execution_count": 68,
      "outputs": [
        {
          "output_type": "stream",
          "name": "stdout",
          "text": [
            "The number 27 is Odd\n"
          ]
        }
      ]
    },
    {
      "cell_type": "markdown",
      "source": [
        "# DATA TYPES\n",
        "* STRING\n",
        "* NUMERIC\n",
        "* BOOLEAN\n",
        "* LIST\n",
        "* DICTIONARY"
      ],
      "metadata": {
        "id": "7BUUcmtzu3dw"
      }
    }
  ]
}